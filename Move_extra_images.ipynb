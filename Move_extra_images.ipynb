{
 "cells": [
  {
   "cell_type": "code",
   "execution_count": 1,
   "id": "62423352",
   "metadata": {},
   "outputs": [],
   "source": [
    "import os\n",
    "import shutil"
   ]
  },
  {
   "cell_type": "code",
   "execution_count": 10,
   "id": "d225182b",
   "metadata": {},
   "outputs": [],
   "source": [
    "labelled = []\n",
    "\n",
    "for i in list(os.listdir(\"games\\\\train\\labels\")):\n",
    "    \n",
    "    file = i.split(\".\")[0]\n",
    "    \n",
    "    labelled.append(file)"
   ]
  },
  {
   "cell_type": "code",
   "execution_count": 14,
   "id": "bc2ed451",
   "metadata": {},
   "outputs": [],
   "source": [
    "for i in list(os.listdir(\"games\\\\train\\images\")):\n",
    "    \n",
    "    file = i.split(\".\")[0]\n",
    "    \n",
    "    if  file not in labelled:\n",
    "        shutil.move(\"games\\\\train\\images\\\\\" + i, r\"games\\unlabelled\")"
   ]
  },
  {
   "cell_type": "code",
   "execution_count": 6,
   "id": "3db2459c",
   "metadata": {},
   "outputs": [
    {
     "ename": "OSError",
     "evalue": "[WinError 123] The filename, directory name, or volume label syntax is incorrect: 'games\\train'",
     "output_type": "error",
     "traceback": [
      "\u001b[1;31m---------------------------------------------------------------------------\u001b[0m",
      "\u001b[1;31mOSError\u001b[0m                                   Traceback (most recent call last)",
      "Input \u001b[1;32mIn [6]\u001b[0m, in \u001b[0;36m<cell line: 1>\u001b[1;34m()\u001b[0m\n\u001b[1;32m----> 1\u001b[0m \u001b[43mos\u001b[49m\u001b[38;5;241;43m.\u001b[39;49m\u001b[43mlistdir\u001b[49m\u001b[43m(\u001b[49m\u001b[38;5;124;43m\"\u001b[39;49m\u001b[38;5;124;43mgames\u001b[39;49m\u001b[38;5;130;43;01m\\t\u001b[39;49;00m\u001b[38;5;124;43mrain\u001b[39;49m\u001b[38;5;124;43m\"\u001b[39;49m\u001b[43m)\u001b[49m\n",
      "\u001b[1;31mOSError\u001b[0m: [WinError 123] The filename, directory name, or volume label syntax is incorrect: 'games\\train'"
     ]
    }
   ],
   "source": [
    "os.listdir(\"games\\train\")"
   ]
  },
  {
   "cell_type": "code",
   "execution_count": 12,
   "id": "0b621d10",
   "metadata": {},
   "outputs": [
    {
     "data": {
      "text/plain": [
       "555"
      ]
     },
     "execution_count": 12,
     "metadata": {},
     "output_type": "execute_result"
    }
   ],
   "source": [
    "len(labelled)"
   ]
  },
  {
   "cell_type": "code",
   "execution_count": null,
   "id": "dc2598e6",
   "metadata": {},
   "outputs": [],
   "source": []
  }
 ],
 "metadata": {
  "kernelspec": {
   "display_name": "Python 3 (ipykernel)",
   "language": "python",
   "name": "python3"
  },
  "language_info": {
   "codemirror_mode": {
    "name": "ipython",
    "version": 3
   },
   "file_extension": ".py",
   "mimetype": "text/x-python",
   "name": "python",
   "nbconvert_exporter": "python",
   "pygments_lexer": "ipython3",
   "version": "3.9.12"
  }
 },
 "nbformat": 4,
 "nbformat_minor": 5
}
