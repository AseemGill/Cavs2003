{
 "cells": [
  {
   "cell_type": "code",
   "execution_count": 1,
   "id": "d6098127",
   "metadata": {},
   "outputs": [],
   "source": [
    "import cv2\n",
    "import numpy as np\n",
    "import os"
   ]
  },
  {
   "cell_type": "code",
   "execution_count": 6,
   "id": "10074067",
   "metadata": {
    "scrolled": true
   },
   "outputs": [],
   "source": [
    "import cv2\n",
    "\n",
    "cap = cv2.VideoCapture(r\"C:\\Users\\GillA\\Desktop\\University\\test.mp4\")\n",
    "ret, frame = cap.read()\n",
    "\n",
    "i = 0\n",
    "\n",
    "while(1):\n",
    "    ret, frame = cap.read()\n",
    "    if cv2.waitKey(1) & 0xFF == ord('q') or ret==False :\n",
    "        cap.release()\n",
    "        cv2.destroyAllWindows()\n",
    "        break\n",
    "    if i%5 == 0:\n",
    "        cv2.imwrite(\"raw/2003Cavs_2_frame\" + str(i) + '.jpg',frame)\n",
    "    i +=1"
   ]
  },
  {
   "cell_type": "code",
   "execution_count": 4,
   "id": "01408141",
   "metadata": {},
   "outputs": [
    {
     "data": {
      "text/plain": [
       "(False, None)"
      ]
     },
     "execution_count": 4,
     "metadata": {},
     "output_type": "execute_result"
    }
   ],
   "source": [
    "cap.read()"
   ]
  },
  {
   "cell_type": "markdown",
   "id": "bb8d291d",
   "metadata": {},
   "source": [
    "# Cropping"
   ]
  },
  {
   "cell_type": "code",
   "execution_count": 30,
   "id": "a342da50",
   "metadata": {
    "scrolled": true
   },
   "outputs": [],
   "source": [
    "for i in list(os.listdir(\"raw\")):\n",
    "\n",
    "    img = cv2.imread('raw/' + i)\n",
    "\n",
    "    # Cropping an image\n",
    "    cropped_image = img[:, 253:1920-253]\n",
    "\n",
    "    # Save the cropped image\n",
    "    cv2.imwrite(\"cropped/\" + i, cropped_image)"
   ]
  },
  {
   "cell_type": "code",
   "execution_count": 10,
   "id": "7098b08e",
   "metadata": {},
   "outputs": [
    {
     "name": "stdout",
     "output_type": "stream",
     "text": [
      "(1080, 1920, 3)\n"
     ]
    },
    {
     "data": {
      "text/plain": [
       "True"
      ]
     },
     "execution_count": 10,
     "metadata": {},
     "output_type": "execute_result"
    }
   ],
   "source": [
    "img = cv2.imread('raw/2003Cavs_2_frame0.jpg')\n",
    "print(img.shape)\n",
    "cropped_image = img[:, 253:1920-253]\n",
    "cv2.imwrite(\"cropped/2003Cavs_2_frame0.jpg\", cropped_image)"
   ]
  },
  {
   "cell_type": "code",
   "execution_count": 9,
   "id": "ba9115db",
   "metadata": {},
   "outputs": [
    {
     "name": "stdout",
     "output_type": "stream",
     "text": [
      "[[[ 6  6 12]\n",
      "  [ 7  6 15]\n",
      "  [26 25 34]\n",
      "  ...\n",
      "  [ 3  0  2]\n",
      "  [ 3  0  2]\n",
      "  [ 3  0  2]]\n",
      "\n",
      " [[ 6  6 12]\n",
      "  [ 8  7 16]\n",
      "  [28 27 36]\n",
      "  ...\n",
      "  [ 3  0  2]\n",
      "  [ 3  0  2]\n",
      "  [ 3  0  2]]\n",
      "\n",
      " [[ 6  6 12]\n",
      "  [ 7  6 15]\n",
      "  [28 27 36]\n",
      "  ...\n",
      "  [ 3  0  2]\n",
      "  [ 3  0  2]\n",
      "  [ 3  0  2]]\n",
      "\n",
      " ...\n",
      "\n",
      " [[ 8  7  9]\n",
      "  [22 21 23]\n",
      "  [29 28 30]\n",
      "  ...\n",
      "  [ 1  0  2]\n",
      "  [ 1  0  2]\n",
      "  [ 1  0  2]]\n",
      "\n",
      " [[ 6  5  7]\n",
      "  [19 18 20]\n",
      "  [26 25 27]\n",
      "  ...\n",
      "  [ 0  0  1]\n",
      "  [ 0  0  1]\n",
      "  [ 0  0  1]]\n",
      "\n",
      " [[ 4  3  5]\n",
      "  [17 16 18]\n",
      "  [24 23 25]\n",
      "  ...\n",
      "  [ 0  0  1]\n",
      "  [ 0  0  1]\n",
      "  [ 0  0  1]]]\n"
     ]
    }
   ],
   "source": [
    "print(cropped_image)"
   ]
  },
  {
   "cell_type": "code",
   "execution_count": null,
   "id": "6d2532fa",
   "metadata": {},
   "outputs": [],
   "source": []
  }
 ],
 "metadata": {
  "kernelspec": {
   "display_name": "cavs2003py39",
   "language": "python",
   "name": "python3"
  },
  "language_info": {
   "codemirror_mode": {
    "name": "ipython",
    "version": 3
   },
   "file_extension": ".py",
   "mimetype": "text/x-python",
   "name": "python",
   "nbconvert_exporter": "python",
   "pygments_lexer": "ipython3",
   "version": "3.9.16"
  },
  "vscode": {
   "interpreter": {
    "hash": "93865607a1f6af2283833deebd9afc8bc1aa0e82544db3c109fbef7503049116"
   }
  }
 },
 "nbformat": 4,
 "nbformat_minor": 5
}
