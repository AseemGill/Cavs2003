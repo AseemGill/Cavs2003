{
 "cells": [
  {
   "cell_type": "code",
   "execution_count": 21,
   "id": "d6098127",
   "metadata": {},
   "outputs": [],
   "source": [
    "import cv2\n",
    "import numpy as np\n",
    "import os"
   ]
  },
  {
   "cell_type": "code",
   "execution_count": 29,
   "id": "10074067",
   "metadata": {
    "scrolled": true
   },
   "outputs": [],
   "source": [
    "import cv2\n",
    "\n",
    "cap = cv2.VideoCapture(\"LeBron James First NBA Game, Full Highlights vs Kings (2003.10.29) - MUST WATCH Debut! HD.mp4\")\n",
    "ret, frame = cap.read()\n",
    "\n",
    "i = 0\n",
    "\n",
    "while(1):\n",
    "    ret, frame = cap.read()\n",
    "    if cv2.waitKey(1) & 0xFF == ord('q') or ret==False :\n",
    "        cap.release()\n",
    "        cv2.destroyAllWindows()\n",
    "        break\n",
    "    if i%30 == 0:\n",
    "        cv2.imwrite(\"raw/2003Cavs_frame\" + str(i) + '.jpg',frame)\n",
    "    i +=1"
   ]
  },
  {
   "cell_type": "code",
   "execution_count": 4,
   "id": "01408141",
   "metadata": {},
   "outputs": [
    {
     "data": {
      "text/plain": [
       "(False, None)"
      ]
     },
     "execution_count": 4,
     "metadata": {},
     "output_type": "execute_result"
    }
   ],
   "source": [
    "cap.read()"
   ]
  },
  {
   "cell_type": "markdown",
   "id": "bb8d291d",
   "metadata": {},
   "source": [
    "# Cropping"
   ]
  },
  {
   "cell_type": "code",
   "execution_count": 30,
   "id": "a342da50",
   "metadata": {
    "scrolled": true
   },
   "outputs": [],
   "source": [
    "for i in list(os.listdir(\"raw\")):\n",
    "\n",
    "    img = cv2.imread('raw/' + i)\n",
    "\n",
    "    # Cropping an image\n",
    "    cropped_image = img[:, 175:1105]\n",
    "\n",
    "    # Save the cropped image\n",
    "    cv2.imwrite(\"cropped/\" + i, cropped_image)"
   ]
  },
  {
   "cell_type": "code",
   "execution_count": null,
   "id": "7098b08e",
   "metadata": {},
   "outputs": [],
   "source": []
  }
 ],
 "metadata": {
  "kernelspec": {
   "display_name": "Python 3",
   "language": "python",
   "name": "python3"
  },
  "language_info": {
   "codemirror_mode": {
    "name": "ipython",
    "version": 3
   },
   "file_extension": ".py",
   "mimetype": "text/x-python",
   "name": "python",
   "nbconvert_exporter": "python",
   "pygments_lexer": "ipython3",
   "version": "3.10.2"
  },
  "vscode": {
   "interpreter": {
    "hash": "26de051ba29f2982a8de78e945f0abaf191376122a1563185a90213a26c5da77"
   }
  }
 },
 "nbformat": 4,
 "nbformat_minor": 5
}
