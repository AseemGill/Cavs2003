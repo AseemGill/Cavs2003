{
 "cells": [
  {
   "cell_type": "code",
   "execution_count": 1,
   "id": "ec0f7270",
   "metadata": {},
   "outputs": [],
   "source": [
    "import numpy as np"
   ]
  },
  {
   "cell_type": "code",
   "execution_count": 2,
   "id": "a6195c6f",
   "metadata": {},
   "outputs": [],
   "source": [
    "from ultralytics import YOLO"
   ]
  },
  {
   "cell_type": "code",
   "execution_count": 11,
   "id": "900854f8",
   "metadata": {},
   "outputs": [
    {
     "name": "stderr",
     "output_type": "stream",
     "text": [
      "WARNING  Environment does not support cv2.imshow() or PIL Image.show()\n",
      "\n",
      "Ultralytics YOLOv8.0.39  Python-3.9.12 torch-1.13.1+cpu CPU\n",
      "Model summary (fused): 168 layers, 3006233 parameters, 0 gradients, 8.1 GFLOPs\n",
      "\n",
      "video 1/1 (1/15705) C:\\Users\\Aseem Gill\\Desktop\\University\\LeBron James First NBA Game, Full Highlights vs Kings (2003.10.29) - MUST WATCH Debut! HD.mp4: 384x640 219.9ms\n",
      "video 1/1 (2/15705) C:\\Users\\Aseem Gill\\Desktop\\University\\LeBron James First NBA Game, Full Highlights vs Kings (2003.10.29) - MUST WATCH Debut! HD.mp4: 384x640 175.7ms\n",
      "video 1/1 (3/15705) C:\\Users\\Aseem Gill\\Desktop\\University\\LeBron James First NBA Game, Full Highlights vs Kings (2003.10.29) - MUST WATCH Debut! HD.mp4: 384x640 163.0ms\n",
      "video 1/1 (4/15705) C:\\Users\\Aseem Gill\\Desktop\\University\\LeBron James First NBA Game, Full Highlights vs Kings (2003.10.29) - MUST WATCH Debut! HD.mp4: 384x640 161.5ms\n",
      "video 1/1 (5/15705) C:\\Users\\Aseem Gill\\Desktop\\University\\LeBron James First NBA Game, Full Highlights vs Kings (2003.10.29) - MUST WATCH Debut! HD.mp4: 384x640 169.0ms\n",
      "video 1/1 (6/15705) C:\\Users\\Aseem Gill\\Desktop\\University\\LeBron James First NBA Game, Full Highlights vs Kings (2003.10.29) - MUST WATCH Debut! HD.mp4: 384x640 169.4ms\n",
      "video 1/1 (7/15705) C:\\Users\\Aseem Gill\\Desktop\\University\\LeBron James First NBA Game, Full Highlights vs Kings (2003.10.29) - MUST WATCH Debut! HD.mp4: 384x640 164.0ms\n",
      "video 1/1 (8/15705) C:\\Users\\Aseem Gill\\Desktop\\University\\LeBron James First NBA Game, Full Highlights vs Kings (2003.10.29) - MUST WATCH Debut! HD.mp4: 384x640 165.9ms\n",
      "video 1/1 (9/15705) C:\\Users\\Aseem Gill\\Desktop\\University\\LeBron James First NBA Game, Full Highlights vs Kings (2003.10.29) - MUST WATCH Debut! HD.mp4: 384x640 225.3ms\n",
      "video 1/1 (10/15705) C:\\Users\\Aseem Gill\\Desktop\\University\\LeBron James First NBA Game, Full Highlights vs Kings (2003.10.29) - MUST WATCH Debut! HD.mp4: 384x640 195.9ms\n",
      "video 1/1 (11/15705) C:\\Users\\Aseem Gill\\Desktop\\University\\LeBron James First NBA Game, Full Highlights vs Kings (2003.10.29) - MUST WATCH Debut! HD.mp4: 384x640 165.6ms\n",
      "video 1/1 (12/15705) C:\\Users\\Aseem Gill\\Desktop\\University\\LeBron James First NBA Game, Full Highlights vs Kings (2003.10.29) - MUST WATCH Debut! HD.mp4: 384x640 184.4ms\n",
      "video 1/1 (13/15705) C:\\Users\\Aseem Gill\\Desktop\\University\\LeBron James First NBA Game, Full Highlights vs Kings (2003.10.29) - MUST WATCH Debut! HD.mp4: 384x640 151.5ms\n",
      "video 1/1 (14/15705) C:\\Users\\Aseem Gill\\Desktop\\University\\LeBron James First NBA Game, Full Highlights vs Kings (2003.10.29) - MUST WATCH Debut! HD.mp4: 384x640 152.8ms\n",
      "video 1/1 (15/15705) C:\\Users\\Aseem Gill\\Desktop\\University\\LeBron James First NBA Game, Full Highlights vs Kings (2003.10.29) - MUST WATCH Debut! HD.mp4: 384x640 170.5ms\n",
      "video 1/1 (16/15705) C:\\Users\\Aseem Gill\\Desktop\\University\\LeBron James First NBA Game, Full Highlights vs Kings (2003.10.29) - MUST WATCH Debut! HD.mp4: 384x640 159.2ms\n",
      "video 1/1 (17/15705) C:\\Users\\Aseem Gill\\Desktop\\University\\LeBron James First NBA Game, Full Highlights vs Kings (2003.10.29) - MUST WATCH Debut! HD.mp4: 384x640 203.8ms\n",
      "video 1/1 (18/15705) C:\\Users\\Aseem Gill\\Desktop\\University\\LeBron James First NBA Game, Full Highlights vs Kings (2003.10.29) - MUST WATCH Debut! HD.mp4: 384x640 230.2ms\n",
      "video 1/1 (19/15705) C:\\Users\\Aseem Gill\\Desktop\\University\\LeBron James First NBA Game, Full Highlights vs Kings (2003.10.29) - MUST WATCH Debut! HD.mp4: 384x640 212.3ms\n",
      "video 1/1 (20/15705) C:\\Users\\Aseem Gill\\Desktop\\University\\LeBron James First NBA Game, Full Highlights vs Kings (2003.10.29) - MUST WATCH Debut! HD.mp4: 384x640 230.4ms\n",
      "video 1/1 (21/15705) C:\\Users\\Aseem Gill\\Desktop\\University\\LeBron James First NBA Game, Full Highlights vs Kings (2003.10.29) - MUST WATCH Debut! HD.mp4: 384x640 223.8ms\n",
      "video 1/1 (22/15705) C:\\Users\\Aseem Gill\\Desktop\\University\\LeBron James First NBA Game, Full Highlights vs Kings (2003.10.29) - MUST WATCH Debut! HD.mp4: 384x640 189.2ms\n",
      "video 1/1 (23/15705) C:\\Users\\Aseem Gill\\Desktop\\University\\LeBron James First NBA Game, Full Highlights vs Kings (2003.10.29) - MUST WATCH Debut! HD.mp4: 384x640 173.7ms\n",
      "video 1/1 (24/15705) C:\\Users\\Aseem Gill\\Desktop\\University\\LeBron James First NBA Game, Full Highlights vs Kings (2003.10.29) - MUST WATCH Debut! HD.mp4: 384x640 169.5ms\n",
      "video 1/1 (25/15705) C:\\Users\\Aseem Gill\\Desktop\\University\\LeBron James First NBA Game, Full Highlights vs Kings (2003.10.29) - MUST WATCH Debut! HD.mp4: 384x640 189.2ms\n",
      "video 1/1 (26/15705) C:\\Users\\Aseem Gill\\Desktop\\University\\LeBron James First NBA Game, Full Highlights vs Kings (2003.10.29) - MUST WATCH Debut! HD.mp4: 384x640 166.8ms\n",
      "video 1/1 (27/15705) C:\\Users\\Aseem Gill\\Desktop\\University\\LeBron James First NBA Game, Full Highlights vs Kings (2003.10.29) - MUST WATCH Debut! HD.mp4: 384x640 1 LeBron, 177.7ms\n",
      "video 1/1 (28/15705) C:\\Users\\Aseem Gill\\Desktop\\University\\LeBron James First NBA Game, Full Highlights vs Kings (2003.10.29) - MUST WATCH Debut! HD.mp4: 384x640 1 LeBron, 162.5ms\n",
      "video 1/1 (29/15705) C:\\Users\\Aseem Gill\\Desktop\\University\\LeBron James First NBA Game, Full Highlights vs Kings (2003.10.29) - MUST WATCH Debut! HD.mp4: 384x640 2 LeBrons, 169.4ms\n",
      "video 1/1 (30/15705) C:\\Users\\Aseem Gill\\Desktop\\University\\LeBron James First NBA Game, Full Highlights vs Kings (2003.10.29) - MUST WATCH Debut! HD.mp4: 384x640 2 LeBrons, 186.4ms\n",
      "video 1/1 (31/15705) C:\\Users\\Aseem Gill\\Desktop\\University\\LeBron James First NBA Game, Full Highlights vs Kings (2003.10.29) - MUST WATCH Debut! HD.mp4: 384x640 2 LeBrons, 176.3ms\n",
      "video 1/1 (32/15705) C:\\Users\\Aseem Gill\\Desktop\\University\\LeBron James First NBA Game, Full Highlights vs Kings (2003.10.29) - MUST WATCH Debut! HD.mp4: 384x640 2 LeBrons, 198.3ms\n",
      "video 1/1 (33/15705) C:\\Users\\Aseem Gill\\Desktop\\University\\LeBron James First NBA Game, Full Highlights vs Kings (2003.10.29) - MUST WATCH Debut! HD.mp4: 384x640 1 LeBron, 178.8ms\n",
      "video 1/1 (34/15705) C:\\Users\\Aseem Gill\\Desktop\\University\\LeBron James First NBA Game, Full Highlights vs Kings (2003.10.29) - MUST WATCH Debut! HD.mp4: 384x640 1 LeBron, 180.2ms\n",
      "video 1/1 (35/15705) C:\\Users\\Aseem Gill\\Desktop\\University\\LeBron James First NBA Game, Full Highlights vs Kings (2003.10.29) - MUST WATCH Debut! HD.mp4: 384x640 1 LeBron, 174.0ms\n",
      "video 1/1 (36/15705) C:\\Users\\Aseem Gill\\Desktop\\University\\LeBron James First NBA Game, Full Highlights vs Kings (2003.10.29) - MUST WATCH Debut! HD.mp4: 384x640 1 LeBron, 178.0ms\n",
      "video 1/1 (37/15705) C:\\Users\\Aseem Gill\\Desktop\\University\\LeBron James First NBA Game, Full Highlights vs Kings (2003.10.29) - MUST WATCH Debut! HD.mp4: 384x640 1 LeBron, 165.3ms\n",
      "video 1/1 (38/15705) C:\\Users\\Aseem Gill\\Desktop\\University\\LeBron James First NBA Game, Full Highlights vs Kings (2003.10.29) - MUST WATCH Debut! HD.mp4: 384x640 2 LeBrons, 178.6ms\n",
      "video 1/1 (39/15705) C:\\Users\\Aseem Gill\\Desktop\\University\\LeBron James First NBA Game, Full Highlights vs Kings (2003.10.29) - MUST WATCH Debut! HD.mp4: 384x640 2 LeBrons, 190.6ms\n",
      "video 1/1 (40/15705) C:\\Users\\Aseem Gill\\Desktop\\University\\LeBron James First NBA Game, Full Highlights vs Kings (2003.10.29) - MUST WATCH Debut! HD.mp4: 384x640 2 LeBrons, 188.7ms\n",
      "video 1/1 (41/15705) C:\\Users\\Aseem Gill\\Desktop\\University\\LeBron James First NBA Game, Full Highlights vs Kings (2003.10.29) - MUST WATCH Debut! HD.mp4: 384x640 1 LeBron, 176.6ms\n",
      "video 1/1 (42/15705) C:\\Users\\Aseem Gill\\Desktop\\University\\LeBron James First NBA Game, Full Highlights vs Kings (2003.10.29) - MUST WATCH Debut! HD.mp4: 384x640 1 LeBron, 200.0ms\n",
      "video 1/1 (43/15705) C:\\Users\\Aseem Gill\\Desktop\\University\\LeBron James First NBA Game, Full Highlights vs Kings (2003.10.29) - MUST WATCH Debut! HD.mp4: 384x640 2 LeBrons, 166.1ms\n",
      "video 1/1 (44/15705) C:\\Users\\Aseem Gill\\Desktop\\University\\LeBron James First NBA Game, Full Highlights vs Kings (2003.10.29) - MUST WATCH Debut! HD.mp4: 384x640 2 LeBrons, 179.0ms\n",
      "video 1/1 (45/15705) C:\\Users\\Aseem Gill\\Desktop\\University\\LeBron James First NBA Game, Full Highlights vs Kings (2003.10.29) - MUST WATCH Debut! HD.mp4: 384x640 2 LeBrons, 183.7ms\n",
      "video 1/1 (46/15705) C:\\Users\\Aseem Gill\\Desktop\\University\\LeBron James First NBA Game, Full Highlights vs Kings (2003.10.29) - MUST WATCH Debut! HD.mp4: 384x640 1 LeBron, 176.9ms\n"
     ]
    },
    {
     "name": "stderr",
     "output_type": "stream",
     "text": [
      "video 1/1 (47/15705) C:\\Users\\Aseem Gill\\Desktop\\University\\LeBron James First NBA Game, Full Highlights vs Kings (2003.10.29) - MUST WATCH Debut! HD.mp4: 384x640 2 LeBrons, 196.7ms\n",
      "video 1/1 (48/15705) C:\\Users\\Aseem Gill\\Desktop\\University\\LeBron James First NBA Game, Full Highlights vs Kings (2003.10.29) - MUST WATCH Debut! HD.mp4: 384x640 1 LeBron, 182.9ms\n",
      "video 1/1 (49/15705) C:\\Users\\Aseem Gill\\Desktop\\University\\LeBron James First NBA Game, Full Highlights vs Kings (2003.10.29) - MUST WATCH Debut! HD.mp4: 384x640 1 LeBron, 208.4ms\n",
      "video 1/1 (50/15705) C:\\Users\\Aseem Gill\\Desktop\\University\\LeBron James First NBA Game, Full Highlights vs Kings (2003.10.29) - MUST WATCH Debut! HD.mp4: 384x640 2 LeBrons, 166.5ms\n",
      "video 1/1 (51/15705) C:\\Users\\Aseem Gill\\Desktop\\University\\LeBron James First NBA Game, Full Highlights vs Kings (2003.10.29) - MUST WATCH Debut! HD.mp4: 384x640 1 LeBron, 167.5ms\n"
     ]
    },
    {
     "ename": "KeyboardInterrupt",
     "evalue": "",
     "output_type": "error",
     "traceback": [
      "\u001b[1;31m---------------------------------------------------------------------------\u001b[0m",
      "\u001b[1;31mKeyboardInterrupt\u001b[0m                         Traceback (most recent call last)",
      "Input \u001b[1;32mIn [11]\u001b[0m, in \u001b[0;36m<cell line: 3>\u001b[1;34m()\u001b[0m\n\u001b[0;32m      1\u001b[0m model \u001b[38;5;241m=\u001b[39m YOLO(\u001b[38;5;124m\"\u001b[39m\u001b[38;5;124mCavs2003_best.pt\u001b[39m\u001b[38;5;124m\"\u001b[39m)\n\u001b[1;32m----> 3\u001b[0m \u001b[43mmodel\u001b[49m\u001b[38;5;241;43m.\u001b[39;49m\u001b[43mpredict\u001b[49m\u001b[43m(\u001b[49m\u001b[38;5;124;43mr\u001b[39;49m\u001b[38;5;124;43m\"\u001b[39;49m\u001b[38;5;124;43mC:\u001b[39;49m\u001b[38;5;124;43m\\\u001b[39;49m\u001b[38;5;124;43mUsers\u001b[39;49m\u001b[38;5;124;43m\\\u001b[39;49m\u001b[38;5;124;43mAseem Gill\u001b[39;49m\u001b[38;5;124;43m\\\u001b[39;49m\u001b[38;5;124;43mDesktop\u001b[39;49m\u001b[38;5;124;43m\\\u001b[39;49m\u001b[38;5;124;43mUniversity\u001b[39;49m\u001b[38;5;124;43m\\\u001b[39;49m\u001b[38;5;124;43mLeBron James First NBA Game, Full Highlights vs Kings (2003.10.29) - MUST WATCH Debut! HD.mp4\u001b[39;49m\u001b[38;5;124;43m\"\u001b[39;49m\u001b[43m,\u001b[49m\u001b[43mshow\u001b[49m\u001b[38;5;241;43m=\u001b[39;49m\u001b[38;5;28;43;01mTrue\u001b[39;49;00m\u001b[43m)\u001b[49m\n",
      "File \u001b[1;32m~\\anaconda3\\lib\\site-packages\\ultralytics\\yolo\\engine\\model.py:168\u001b[0m, in \u001b[0;36mYOLO.predict\u001b[1;34m(self, source, stream, **kwargs)\u001b[0m\n\u001b[0;32m    166\u001b[0m     \u001b[38;5;28mself\u001b[39m\u001b[38;5;241m.\u001b[39mpredictor\u001b[38;5;241m.\u001b[39margs \u001b[38;5;241m=\u001b[39m get_cfg(\u001b[38;5;28mself\u001b[39m\u001b[38;5;241m.\u001b[39mpredictor\u001b[38;5;241m.\u001b[39margs, overrides)\n\u001b[0;32m    167\u001b[0m is_cli \u001b[38;5;241m=\u001b[39m sys\u001b[38;5;241m.\u001b[39margv[\u001b[38;5;241m0\u001b[39m]\u001b[38;5;241m.\u001b[39mendswith(\u001b[38;5;124m'\u001b[39m\u001b[38;5;124myolo\u001b[39m\u001b[38;5;124m'\u001b[39m) \u001b[38;5;129;01mor\u001b[39;00m sys\u001b[38;5;241m.\u001b[39margv[\u001b[38;5;241m0\u001b[39m]\u001b[38;5;241m.\u001b[39mendswith(\u001b[38;5;124m'\u001b[39m\u001b[38;5;124multralytics\u001b[39m\u001b[38;5;124m'\u001b[39m)\n\u001b[1;32m--> 168\u001b[0m \u001b[38;5;28;01mreturn\u001b[39;00m \u001b[38;5;28mself\u001b[39m\u001b[38;5;241m.\u001b[39mpredictor\u001b[38;5;241m.\u001b[39mpredict_cli(source\u001b[38;5;241m=\u001b[39msource) \u001b[38;5;28;01mif\u001b[39;00m is_cli \u001b[38;5;28;01melse\u001b[39;00m \u001b[38;5;28;43mself\u001b[39;49m\u001b[38;5;241;43m.\u001b[39;49m\u001b[43mpredictor\u001b[49m\u001b[43m(\u001b[49m\u001b[43msource\u001b[49m\u001b[38;5;241;43m=\u001b[39;49m\u001b[43msource\u001b[49m\u001b[43m,\u001b[49m\u001b[43m \u001b[49m\u001b[43mstream\u001b[49m\u001b[38;5;241;43m=\u001b[39;49m\u001b[43mstream\u001b[49m\u001b[43m)\u001b[49m\n",
      "File \u001b[1;32m~\\anaconda3\\lib\\site-packages\\torch\\autograd\\grad_mode.py:27\u001b[0m, in \u001b[0;36m_DecoratorContextManager.__call__.<locals>.decorate_context\u001b[1;34m(*args, **kwargs)\u001b[0m\n\u001b[0;32m     24\u001b[0m \u001b[38;5;129m@functools\u001b[39m\u001b[38;5;241m.\u001b[39mwraps(func)\n\u001b[0;32m     25\u001b[0m \u001b[38;5;28;01mdef\u001b[39;00m \u001b[38;5;21mdecorate_context\u001b[39m(\u001b[38;5;241m*\u001b[39margs, \u001b[38;5;241m*\u001b[39m\u001b[38;5;241m*\u001b[39mkwargs):\n\u001b[0;32m     26\u001b[0m     \u001b[38;5;28;01mwith\u001b[39;00m \u001b[38;5;28mself\u001b[39m\u001b[38;5;241m.\u001b[39mclone():\n\u001b[1;32m---> 27\u001b[0m         \u001b[38;5;28;01mreturn\u001b[39;00m func(\u001b[38;5;241m*\u001b[39margs, \u001b[38;5;241m*\u001b[39m\u001b[38;5;241m*\u001b[39mkwargs)\n",
      "File \u001b[1;32m~\\anaconda3\\lib\\site-packages\\ultralytics\\yolo\\engine\\predictor.py:114\u001b[0m, in \u001b[0;36mBasePredictor.__call__\u001b[1;34m(self, source, model, stream)\u001b[0m\n\u001b[0;32m    112\u001b[0m     \u001b[38;5;28;01mreturn\u001b[39;00m \u001b[38;5;28mself\u001b[39m\u001b[38;5;241m.\u001b[39mstream_inference(source, model)\n\u001b[0;32m    113\u001b[0m \u001b[38;5;28;01melse\u001b[39;00m:\n\u001b[1;32m--> 114\u001b[0m     \u001b[38;5;28;01mreturn\u001b[39;00m \u001b[38;5;28;43mlist\u001b[39;49m\u001b[43m(\u001b[49m\u001b[38;5;28;43mself\u001b[39;49m\u001b[38;5;241;43m.\u001b[39;49m\u001b[43mstream_inference\u001b[49m\u001b[43m(\u001b[49m\u001b[43msource\u001b[49m\u001b[43m,\u001b[49m\u001b[43m \u001b[49m\u001b[43mmodel\u001b[49m\u001b[43m)\u001b[49m\u001b[43m)\u001b[49m\n",
      "File \u001b[1;32m~\\anaconda3\\lib\\site-packages\\ultralytics\\yolo\\engine\\predictor.py:169\u001b[0m, in \u001b[0;36mBasePredictor.stream_inference\u001b[1;34m(self, source, model)\u001b[0m\n\u001b[0;32m    167\u001b[0m \u001b[38;5;66;03m# Inference\u001b[39;00m\n\u001b[0;32m    168\u001b[0m \u001b[38;5;28;01mwith\u001b[39;00m \u001b[38;5;28mself\u001b[39m\u001b[38;5;241m.\u001b[39mdt[\u001b[38;5;241m1\u001b[39m]:\n\u001b[1;32m--> 169\u001b[0m     preds \u001b[38;5;241m=\u001b[39m \u001b[38;5;28;43mself\u001b[39;49m\u001b[38;5;241;43m.\u001b[39;49m\u001b[43mmodel\u001b[49m\u001b[43m(\u001b[49m\u001b[43mim\u001b[49m\u001b[43m,\u001b[49m\u001b[43m \u001b[49m\u001b[43maugment\u001b[49m\u001b[38;5;241;43m=\u001b[39;49m\u001b[38;5;28;43mself\u001b[39;49m\u001b[38;5;241;43m.\u001b[39;49m\u001b[43margs\u001b[49m\u001b[38;5;241;43m.\u001b[39;49m\u001b[43maugment\u001b[49m\u001b[43m,\u001b[49m\u001b[43m \u001b[49m\u001b[43mvisualize\u001b[49m\u001b[38;5;241;43m=\u001b[39;49m\u001b[43mvisualize\u001b[49m\u001b[43m)\u001b[49m\n\u001b[0;32m    171\u001b[0m \u001b[38;5;66;03m# postprocess\u001b[39;00m\n\u001b[0;32m    172\u001b[0m \u001b[38;5;28;01mwith\u001b[39;00m \u001b[38;5;28mself\u001b[39m\u001b[38;5;241m.\u001b[39mdt[\u001b[38;5;241m2\u001b[39m]:\n",
      "File \u001b[1;32m~\\anaconda3\\lib\\site-packages\\torch\\nn\\modules\\module.py:1194\u001b[0m, in \u001b[0;36mModule._call_impl\u001b[1;34m(self, *input, **kwargs)\u001b[0m\n\u001b[0;32m   1190\u001b[0m \u001b[38;5;66;03m# If we don't have any hooks, we want to skip the rest of the logic in\u001b[39;00m\n\u001b[0;32m   1191\u001b[0m \u001b[38;5;66;03m# this function, and just call forward.\u001b[39;00m\n\u001b[0;32m   1192\u001b[0m \u001b[38;5;28;01mif\u001b[39;00m \u001b[38;5;129;01mnot\u001b[39;00m (\u001b[38;5;28mself\u001b[39m\u001b[38;5;241m.\u001b[39m_backward_hooks \u001b[38;5;129;01mor\u001b[39;00m \u001b[38;5;28mself\u001b[39m\u001b[38;5;241m.\u001b[39m_forward_hooks \u001b[38;5;129;01mor\u001b[39;00m \u001b[38;5;28mself\u001b[39m\u001b[38;5;241m.\u001b[39m_forward_pre_hooks \u001b[38;5;129;01mor\u001b[39;00m _global_backward_hooks\n\u001b[0;32m   1193\u001b[0m         \u001b[38;5;129;01mor\u001b[39;00m _global_forward_hooks \u001b[38;5;129;01mor\u001b[39;00m _global_forward_pre_hooks):\n\u001b[1;32m-> 1194\u001b[0m     \u001b[38;5;28;01mreturn\u001b[39;00m forward_call(\u001b[38;5;241m*\u001b[39m\u001b[38;5;28minput\u001b[39m, \u001b[38;5;241m*\u001b[39m\u001b[38;5;241m*\u001b[39mkwargs)\n\u001b[0;32m   1195\u001b[0m \u001b[38;5;66;03m# Do not call functions when jit is used\u001b[39;00m\n\u001b[0;32m   1196\u001b[0m full_backward_hooks, non_full_backward_hooks \u001b[38;5;241m=\u001b[39m [], []\n",
      "File \u001b[1;32m~\\anaconda3\\lib\\site-packages\\ultralytics\\nn\\autobackend.py:274\u001b[0m, in \u001b[0;36mAutoBackend.forward\u001b[1;34m(self, im, augment, visualize)\u001b[0m\n\u001b[0;32m    271\u001b[0m     im \u001b[38;5;241m=\u001b[39m im\u001b[38;5;241m.\u001b[39mpermute(\u001b[38;5;241m0\u001b[39m, \u001b[38;5;241m2\u001b[39m, \u001b[38;5;241m3\u001b[39m, \u001b[38;5;241m1\u001b[39m)  \u001b[38;5;66;03m# torch BCHW to numpy BHWC shape(1,320,192,3)\u001b[39;00m\n\u001b[0;32m    273\u001b[0m \u001b[38;5;28;01mif\u001b[39;00m \u001b[38;5;28mself\u001b[39m\u001b[38;5;241m.\u001b[39mpt \u001b[38;5;129;01mor\u001b[39;00m \u001b[38;5;28mself\u001b[39m\u001b[38;5;241m.\u001b[39mnn_module:  \u001b[38;5;66;03m# PyTorch\u001b[39;00m\n\u001b[1;32m--> 274\u001b[0m     y \u001b[38;5;241m=\u001b[39m \u001b[38;5;28mself\u001b[39m\u001b[38;5;241m.\u001b[39mmodel(im, augment\u001b[38;5;241m=\u001b[39maugment, visualize\u001b[38;5;241m=\u001b[39mvisualize) \u001b[38;5;28;01mif\u001b[39;00m augment \u001b[38;5;129;01mor\u001b[39;00m visualize \u001b[38;5;28;01melse\u001b[39;00m \u001b[38;5;28;43mself\u001b[39;49m\u001b[38;5;241;43m.\u001b[39;49m\u001b[43mmodel\u001b[49m\u001b[43m(\u001b[49m\u001b[43mim\u001b[49m\u001b[43m)\u001b[49m\n\u001b[0;32m    275\u001b[0m \u001b[38;5;28;01melif\u001b[39;00m \u001b[38;5;28mself\u001b[39m\u001b[38;5;241m.\u001b[39mjit:  \u001b[38;5;66;03m# TorchScript\u001b[39;00m\n\u001b[0;32m    276\u001b[0m     y \u001b[38;5;241m=\u001b[39m \u001b[38;5;28mself\u001b[39m\u001b[38;5;241m.\u001b[39mmodel(im)\n",
      "File \u001b[1;32m~\\anaconda3\\lib\\site-packages\\torch\\nn\\modules\\module.py:1194\u001b[0m, in \u001b[0;36mModule._call_impl\u001b[1;34m(self, *input, **kwargs)\u001b[0m\n\u001b[0;32m   1190\u001b[0m \u001b[38;5;66;03m# If we don't have any hooks, we want to skip the rest of the logic in\u001b[39;00m\n\u001b[0;32m   1191\u001b[0m \u001b[38;5;66;03m# this function, and just call forward.\u001b[39;00m\n\u001b[0;32m   1192\u001b[0m \u001b[38;5;28;01mif\u001b[39;00m \u001b[38;5;129;01mnot\u001b[39;00m (\u001b[38;5;28mself\u001b[39m\u001b[38;5;241m.\u001b[39m_backward_hooks \u001b[38;5;129;01mor\u001b[39;00m \u001b[38;5;28mself\u001b[39m\u001b[38;5;241m.\u001b[39m_forward_hooks \u001b[38;5;129;01mor\u001b[39;00m \u001b[38;5;28mself\u001b[39m\u001b[38;5;241m.\u001b[39m_forward_pre_hooks \u001b[38;5;129;01mor\u001b[39;00m _global_backward_hooks\n\u001b[0;32m   1193\u001b[0m         \u001b[38;5;129;01mor\u001b[39;00m _global_forward_hooks \u001b[38;5;129;01mor\u001b[39;00m _global_forward_pre_hooks):\n\u001b[1;32m-> 1194\u001b[0m     \u001b[38;5;28;01mreturn\u001b[39;00m forward_call(\u001b[38;5;241m*\u001b[39m\u001b[38;5;28minput\u001b[39m, \u001b[38;5;241m*\u001b[39m\u001b[38;5;241m*\u001b[39mkwargs)\n\u001b[0;32m   1195\u001b[0m \u001b[38;5;66;03m# Do not call functions when jit is used\u001b[39;00m\n\u001b[0;32m   1196\u001b[0m full_backward_hooks, non_full_backward_hooks \u001b[38;5;241m=\u001b[39m [], []\n",
      "File \u001b[1;32m~\\anaconda3\\lib\\site-packages\\ultralytics\\nn\\tasks.py:200\u001b[0m, in \u001b[0;36mDetectionModel.forward\u001b[1;34m(self, x, augment, profile, visualize)\u001b[0m\n\u001b[0;32m    198\u001b[0m \u001b[38;5;28;01mif\u001b[39;00m augment:\n\u001b[0;32m    199\u001b[0m     \u001b[38;5;28;01mreturn\u001b[39;00m \u001b[38;5;28mself\u001b[39m\u001b[38;5;241m.\u001b[39m_forward_augment(x)  \u001b[38;5;66;03m# augmented inference, None\u001b[39;00m\n\u001b[1;32m--> 200\u001b[0m \u001b[38;5;28;01mreturn\u001b[39;00m \u001b[38;5;28;43mself\u001b[39;49m\u001b[38;5;241;43m.\u001b[39;49m\u001b[43m_forward_once\u001b[49m\u001b[43m(\u001b[49m\u001b[43mx\u001b[49m\u001b[43m,\u001b[49m\u001b[43m \u001b[49m\u001b[43mprofile\u001b[49m\u001b[43m,\u001b[49m\u001b[43m \u001b[49m\u001b[43mvisualize\u001b[49m\u001b[43m)\u001b[49m\n",
      "File \u001b[1;32m~\\anaconda3\\lib\\site-packages\\ultralytics\\nn\\tasks.py:59\u001b[0m, in \u001b[0;36mBaseModel._forward_once\u001b[1;34m(self, x, profile, visualize)\u001b[0m\n\u001b[0;32m     57\u001b[0m \u001b[38;5;28;01mif\u001b[39;00m profile:\n\u001b[0;32m     58\u001b[0m     \u001b[38;5;28mself\u001b[39m\u001b[38;5;241m.\u001b[39m_profile_one_layer(m, x, dt)\n\u001b[1;32m---> 59\u001b[0m x \u001b[38;5;241m=\u001b[39m \u001b[43mm\u001b[49m\u001b[43m(\u001b[49m\u001b[43mx\u001b[49m\u001b[43m)\u001b[49m  \u001b[38;5;66;03m# run\u001b[39;00m\n\u001b[0;32m     60\u001b[0m y\u001b[38;5;241m.\u001b[39mappend(x \u001b[38;5;28;01mif\u001b[39;00m m\u001b[38;5;241m.\u001b[39mi \u001b[38;5;129;01min\u001b[39;00m \u001b[38;5;28mself\u001b[39m\u001b[38;5;241m.\u001b[39msave \u001b[38;5;28;01melse\u001b[39;00m \u001b[38;5;28;01mNone\u001b[39;00m)  \u001b[38;5;66;03m# save output\u001b[39;00m\n\u001b[0;32m     61\u001b[0m \u001b[38;5;28;01mif\u001b[39;00m visualize:\n",
      "File \u001b[1;32m~\\anaconda3\\lib\\site-packages\\torch\\nn\\modules\\module.py:1194\u001b[0m, in \u001b[0;36mModule._call_impl\u001b[1;34m(self, *input, **kwargs)\u001b[0m\n\u001b[0;32m   1190\u001b[0m \u001b[38;5;66;03m# If we don't have any hooks, we want to skip the rest of the logic in\u001b[39;00m\n\u001b[0;32m   1191\u001b[0m \u001b[38;5;66;03m# this function, and just call forward.\u001b[39;00m\n\u001b[0;32m   1192\u001b[0m \u001b[38;5;28;01mif\u001b[39;00m \u001b[38;5;129;01mnot\u001b[39;00m (\u001b[38;5;28mself\u001b[39m\u001b[38;5;241m.\u001b[39m_backward_hooks \u001b[38;5;129;01mor\u001b[39;00m \u001b[38;5;28mself\u001b[39m\u001b[38;5;241m.\u001b[39m_forward_hooks \u001b[38;5;129;01mor\u001b[39;00m \u001b[38;5;28mself\u001b[39m\u001b[38;5;241m.\u001b[39m_forward_pre_hooks \u001b[38;5;129;01mor\u001b[39;00m _global_backward_hooks\n\u001b[0;32m   1193\u001b[0m         \u001b[38;5;129;01mor\u001b[39;00m _global_forward_hooks \u001b[38;5;129;01mor\u001b[39;00m _global_forward_pre_hooks):\n\u001b[1;32m-> 1194\u001b[0m     \u001b[38;5;28;01mreturn\u001b[39;00m forward_call(\u001b[38;5;241m*\u001b[39m\u001b[38;5;28minput\u001b[39m, \u001b[38;5;241m*\u001b[39m\u001b[38;5;241m*\u001b[39mkwargs)\n\u001b[0;32m   1195\u001b[0m \u001b[38;5;66;03m# Do not call functions when jit is used\u001b[39;00m\n\u001b[0;32m   1196\u001b[0m full_backward_hooks, non_full_backward_hooks \u001b[38;5;241m=\u001b[39m [], []\n",
      "File \u001b[1;32m~\\anaconda3\\lib\\site-packages\\ultralytics\\nn\\modules.py:37\u001b[0m, in \u001b[0;36mConv.forward_fuse\u001b[1;34m(self, x)\u001b[0m\n\u001b[0;32m     36\u001b[0m \u001b[38;5;28;01mdef\u001b[39;00m \u001b[38;5;21mforward_fuse\u001b[39m(\u001b[38;5;28mself\u001b[39m, x):\n\u001b[1;32m---> 37\u001b[0m     \u001b[38;5;28;01mreturn\u001b[39;00m \u001b[38;5;28;43mself\u001b[39;49m\u001b[38;5;241;43m.\u001b[39;49m\u001b[43mact\u001b[49m\u001b[43m(\u001b[49m\u001b[38;5;28;43mself\u001b[39;49m\u001b[38;5;241;43m.\u001b[39;49m\u001b[43mconv\u001b[49m\u001b[43m(\u001b[49m\u001b[43mx\u001b[49m\u001b[43m)\u001b[49m\u001b[43m)\u001b[49m\n",
      "File \u001b[1;32m~\\anaconda3\\lib\\site-packages\\torch\\nn\\modules\\module.py:1194\u001b[0m, in \u001b[0;36mModule._call_impl\u001b[1;34m(self, *input, **kwargs)\u001b[0m\n\u001b[0;32m   1190\u001b[0m \u001b[38;5;66;03m# If we don't have any hooks, we want to skip the rest of the logic in\u001b[39;00m\n\u001b[0;32m   1191\u001b[0m \u001b[38;5;66;03m# this function, and just call forward.\u001b[39;00m\n\u001b[0;32m   1192\u001b[0m \u001b[38;5;28;01mif\u001b[39;00m \u001b[38;5;129;01mnot\u001b[39;00m (\u001b[38;5;28mself\u001b[39m\u001b[38;5;241m.\u001b[39m_backward_hooks \u001b[38;5;129;01mor\u001b[39;00m \u001b[38;5;28mself\u001b[39m\u001b[38;5;241m.\u001b[39m_forward_hooks \u001b[38;5;129;01mor\u001b[39;00m \u001b[38;5;28mself\u001b[39m\u001b[38;5;241m.\u001b[39m_forward_pre_hooks \u001b[38;5;129;01mor\u001b[39;00m _global_backward_hooks\n\u001b[0;32m   1193\u001b[0m         \u001b[38;5;129;01mor\u001b[39;00m _global_forward_hooks \u001b[38;5;129;01mor\u001b[39;00m _global_forward_pre_hooks):\n\u001b[1;32m-> 1194\u001b[0m     \u001b[38;5;28;01mreturn\u001b[39;00m forward_call(\u001b[38;5;241m*\u001b[39m\u001b[38;5;28minput\u001b[39m, \u001b[38;5;241m*\u001b[39m\u001b[38;5;241m*\u001b[39mkwargs)\n\u001b[0;32m   1195\u001b[0m \u001b[38;5;66;03m# Do not call functions when jit is used\u001b[39;00m\n\u001b[0;32m   1196\u001b[0m full_backward_hooks, non_full_backward_hooks \u001b[38;5;241m=\u001b[39m [], []\n",
      "File \u001b[1;32m~\\anaconda3\\lib\\site-packages\\torch\\nn\\modules\\activation.py:395\u001b[0m, in \u001b[0;36mSiLU.forward\u001b[1;34m(self, input)\u001b[0m\n\u001b[0;32m    394\u001b[0m \u001b[38;5;28;01mdef\u001b[39;00m \u001b[38;5;21mforward\u001b[39m(\u001b[38;5;28mself\u001b[39m, \u001b[38;5;28minput\u001b[39m: Tensor) \u001b[38;5;241m-\u001b[39m\u001b[38;5;241m>\u001b[39m Tensor:\n\u001b[1;32m--> 395\u001b[0m     \u001b[38;5;28;01mreturn\u001b[39;00m \u001b[43mF\u001b[49m\u001b[38;5;241;43m.\u001b[39;49m\u001b[43msilu\u001b[49m\u001b[43m(\u001b[49m\u001b[38;5;28;43minput\u001b[39;49m\u001b[43m,\u001b[49m\u001b[43m \u001b[49m\u001b[43minplace\u001b[49m\u001b[38;5;241;43m=\u001b[39;49m\u001b[38;5;28;43mself\u001b[39;49m\u001b[38;5;241;43m.\u001b[39;49m\u001b[43minplace\u001b[49m\u001b[43m)\u001b[49m\n",
      "File \u001b[1;32m~\\anaconda3\\lib\\site-packages\\torch\\nn\\functional.py:2058\u001b[0m, in \u001b[0;36msilu\u001b[1;34m(input, inplace)\u001b[0m\n\u001b[0;32m   2056\u001b[0m     \u001b[38;5;28;01mreturn\u001b[39;00m handle_torch_function(silu, (\u001b[38;5;28minput\u001b[39m,), \u001b[38;5;28minput\u001b[39m, inplace\u001b[38;5;241m=\u001b[39minplace)\n\u001b[0;32m   2057\u001b[0m \u001b[38;5;28;01mif\u001b[39;00m inplace:\n\u001b[1;32m-> 2058\u001b[0m     \u001b[38;5;28;01mreturn\u001b[39;00m \u001b[43mtorch\u001b[49m\u001b[38;5;241;43m.\u001b[39;49m\u001b[43m_C\u001b[49m\u001b[38;5;241;43m.\u001b[39;49m\u001b[43m_nn\u001b[49m\u001b[38;5;241;43m.\u001b[39;49m\u001b[43msilu_\u001b[49m\u001b[43m(\u001b[49m\u001b[38;5;28;43minput\u001b[39;49m\u001b[43m)\u001b[49m\n\u001b[0;32m   2059\u001b[0m \u001b[38;5;28;01mreturn\u001b[39;00m torch\u001b[38;5;241m.\u001b[39m_C\u001b[38;5;241m.\u001b[39m_nn\u001b[38;5;241m.\u001b[39msilu(\u001b[38;5;28minput\u001b[39m)\n",
      "\u001b[1;31mKeyboardInterrupt\u001b[0m: "
     ]
    }
   ],
   "source": [
    "model = YOLO(\"Cavs2003_best.pt\")\n",
    "\n",
    "model.predict(r\"C:\\Users\\Aseem Gill\\Desktop\\University\\LeBron James First NBA Game, Full Highlights vs Kings (2003.10.29) - MUST WATCH Debut! HD.mp4\",show=True)"
   ]
  },
  {
   "cell_type": "code",
   "execution_count": 7,
   "id": "74ff8343",
   "metadata": {},
   "outputs": [
    {
     "ename": "NameError",
     "evalue": "name 'kwargs' is not defined",
     "output_type": "error",
     "traceback": [
      "\u001b[1;31m---------------------------------------------------------------------------\u001b[0m",
      "\u001b[1;31mNameError\u001b[0m                                 Traceback (most recent call last)",
      "Input \u001b[1;32mIn [7]\u001b[0m, in \u001b[0;36m<cell line: 1>\u001b[1;34m()\u001b[0m\n\u001b[1;32m----> 1\u001b[0m model\u001b[38;5;241m.\u001b[39mpredict(\u001b[38;5;241m*\u001b[39m\u001b[38;5;241m*\u001b[39m\u001b[43mkwargs\u001b[49m)\n",
      "\u001b[1;31mNameError\u001b[0m: name 'kwargs' is not defined"
     ]
    }
   ],
   "source": []
  },
  {
   "cell_type": "code",
   "execution_count": 9,
   "id": "3b30e619",
   "metadata": {},
   "outputs": [
    {
     "name": "stdout",
     "output_type": "stream",
     "text": [
      "Help on method predict in module ultralytics.yolo.engine.model:\n",
      "\n",
      "predict(source=None, stream=False, **kwargs) method of ultralytics.yolo.engine.model.YOLO instance\n",
      "    Perform prediction using the YOLO model.\n",
      "    \n",
      "    Args:\n",
      "        source (str | int | PIL | np.ndarray): The source of the image to make predictions on.\n",
      "                      Accepts all source types accepted by the YOLO model.\n",
      "        stream (bool): Whether to stream the predictions or not. Defaults to False.\n",
      "        **kwargs : Additional keyword arguments passed to the predictor.\n",
      "                   Check the 'configuration' section in the documentation for all available options.\n",
      "    \n",
      "    Returns:\n",
      "        (List[ultralytics.yolo.engine.results.Results]): The prediction results.\n",
      "\n"
     ]
    }
   ],
   "source": [
    "help(model.predict)"
   ]
  },
  {
   "cell_type": "code",
   "execution_count": 4,
   "id": "508ed256",
   "metadata": {},
   "outputs": [],
   "source": [
    "import cv2"
   ]
  },
  {
   "cell_type": "code",
   "execution_count": 7,
   "id": "c8e1a1f1",
   "metadata": {},
   "outputs": [
    {
     "name": "stderr",
     "output_type": "stream",
     "text": [
      "WARNING  Environment does not support cv2.imshow() or PIL Image.show()\n",
      "\n",
      "Ultralytics YOLOv8.0.39  Python-3.9.12 torch-1.13.1+cpu CPU\n",
      "Model summary (fused): 168 layers, 3006233 parameters, 0 gradients, 8.1 GFLOPs\n",
      "\n",
      "0: 384x640 143.6ms\n",
      "Speed: 1.0ms pre-process, 143.6ms inference, 1.0ms postprocess per image at shape (1, 3, 640, 640)\n"
     ]
    },
    {
     "name": "stdout",
     "output_type": "stream",
     "text": [
      "[]\n"
     ]
    },
    {
     "ename": "error",
     "evalue": "OpenCV(4.7.0) D:\\a\\opencv-python\\opencv-python\\opencv\\modules\\highgui\\src\\window.cpp:971: error: (-215:Assertion failed) size.width>0 && size.height>0 in function 'cv::imshow'\n",
     "output_type": "error",
     "traceback": [
      "\u001b[1;31m---------------------------------------------------------------------------\u001b[0m",
      "\u001b[1;31merror\u001b[0m                                     Traceback (most recent call last)",
      "Input \u001b[1;32mIn [7]\u001b[0m, in \u001b[0;36m<cell line: 8>\u001b[1;34m()\u001b[0m\n\u001b[0;32m     15\u001b[0m labelled \u001b[38;5;241m=\u001b[39m np\u001b[38;5;241m.\u001b[39marray(labelled)\n\u001b[0;32m     17\u001b[0m \u001b[38;5;28mprint\u001b[39m(labelled)\n\u001b[1;32m---> 19\u001b[0m \u001b[43mcv2\u001b[49m\u001b[38;5;241;43m.\u001b[39;49m\u001b[43mimshow\u001b[49m\u001b[43m(\u001b[49m\u001b[38;5;124;43m\"\u001b[39;49m\u001b[38;5;124;43mframe\u001b[39;49m\u001b[38;5;124;43m\"\u001b[39;49m\u001b[43m,\u001b[49m\u001b[43mlabelled\u001b[49m\u001b[43m)\u001b[49m\n",
      "\u001b[1;31merror\u001b[0m: OpenCV(4.7.0) D:\\a\\opencv-python\\opencv-python\\opencv\\modules\\highgui\\src\\window.cpp:971: error: (-215:Assertion failed) size.width>0 && size.height>0 in function 'cv::imshow'\n"
     ]
    }
   ],
   "source": [
    "i = 0\n",
    "\n",
    "model = YOLO(\"Cavs2003_best.pt\")\n",
    "\n",
    "cap = cv2.VideoCapture(r\"C:\\Users\\Aseem Gill\\Desktop\\University\\LeBron James First NBA Game, Full Highlights vs Kings (2003.10.29) - MUST WATCH Debut! HD.mp4\")\n",
    "ret, frame = cap.read()\n",
    "while(1):\n",
    "    ret, frame = cap.read()\n",
    "    if cv2.waitKey(1) & 0xFF == ord('q') or ret==False :\n",
    "        cap.release()\n",
    "        cv2.destroyAllWindows()\n",
    "        break\n",
    "    labelled = model.predict(frame,show=True)\n",
    "    \n",
    "    labelled = np.array(labelled)\n",
    "    \n",
    "    print(labelled)\n",
    "    \n",
    "    cv2.imshow(\"frame\",labelled)\n",
    "#     i += 1\n",
    "#     if i in frames:\n",
    "#         cv2.imwrite(\"images\\\\2003Cavs_frame\" + str(i) + \".jpg\",frame)"
   ]
  },
  {
   "cell_type": "code",
   "execution_count": null,
   "id": "98b77931",
   "metadata": {},
   "outputs": [],
   "source": []
  }
 ],
 "metadata": {
  "kernelspec": {
   "display_name": "Python 3 (ipykernel)",
   "language": "python",
   "name": "python3"
  },
  "language_info": {
   "codemirror_mode": {
    "name": "ipython",
    "version": 3
   },
   "file_extension": ".py",
   "mimetype": "text/x-python",
   "name": "python",
   "nbconvert_exporter": "python",
   "pygments_lexer": "ipython3",
   "version": "3.9.12"
  }
 },
 "nbformat": 4,
 "nbformat_minor": 5
}
