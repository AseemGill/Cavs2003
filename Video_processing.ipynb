{
 "cells": [
  {
   "cell_type": "code",
   "execution_count": 10,
   "id": "33f8299c",
   "metadata": {},
   "outputs": [],
   "source": [
    "import cv2\n",
    "import numpy as np\n",
    "import os"
   ]
  },
  {
   "cell_type": "code",
   "execution_count": 11,
   "id": "cd2abab9",
   "metadata": {},
   "outputs": [
    {
     "ename": "KeyboardInterrupt",
     "evalue": "",
     "output_type": "error",
     "traceback": [
      "\u001b[1;31m---------------------------------------------------------------------------\u001b[0m",
      "\u001b[1;31mKeyboardInterrupt\u001b[0m                         Traceback (most recent call last)",
      "Input \u001b[1;32mIn [11]\u001b[0m, in \u001b[0;36m<cell line: 6>\u001b[1;34m()\u001b[0m\n\u001b[0;32m      5\u001b[0m \u001b[38;5;28;01mwhile\u001b[39;00m(\u001b[38;5;241m1\u001b[39m):\n\u001b[0;32m      6\u001b[0m     ret, frame \u001b[38;5;241m=\u001b[39m cap\u001b[38;5;241m.\u001b[39mread()\n\u001b[1;32m----> 7\u001b[0m     \u001b[38;5;28;01mif\u001b[39;00m \u001b[43mcv2\u001b[49m\u001b[38;5;241;43m.\u001b[39;49m\u001b[43mwaitKey\u001b[49m\u001b[43m(\u001b[49m\u001b[38;5;241;43m1\u001b[39;49m\u001b[43m)\u001b[49m \u001b[38;5;241m&\u001b[39m \u001b[38;5;241m0xFF\u001b[39m \u001b[38;5;241m==\u001b[39m \u001b[38;5;28mord\u001b[39m(\u001b[38;5;124m'\u001b[39m\u001b[38;5;124mq\u001b[39m\u001b[38;5;124m'\u001b[39m) \u001b[38;5;129;01mor\u001b[39;00m ret\u001b[38;5;241m==\u001b[39m\u001b[38;5;28;01mFalse\u001b[39;00m :\n\u001b[0;32m      8\u001b[0m         cap\u001b[38;5;241m.\u001b[39mrelease()\n\u001b[0;32m      9\u001b[0m         cv2\u001b[38;5;241m.\u001b[39mdestroyAllWindows()\n",
      "\u001b[1;31mKeyboardInterrupt\u001b[0m: "
     ]
    }
   ],
   "source": [
    "i = 0\n",
    "\n",
    "cap = cv2.VideoCapture(r\"C:\\Users\\Aseem Gill\\Desktop\\University\\LeBron James First NBA Game, Full Highlights vs Kings (2003.10.29) - MUST WATCH Debut! HD.mp4\")\n",
    "ret, frame = cap.read()\n",
    "while(1):\n",
    "    ret, frame = cap.read()\n",
    "    if cv2.waitKey(1) & 0xFF == ord('q') or ret==False :\n",
    "        cap.release()\n",
    "        cv2.destroyAllWindows()\n",
    "        break\n",
    "    \n",
    "    i += 1\n",
    "    if i >30*30 and i < 75*30 and i%5 == 0:\n",
    "#         cv2.imshow(\"frame\",frame)\n",
    "        cv2.imwrite(\"more\\\\2003Cavs_frame\" + str(i) + \".jpg\",frame)"
   ]
  },
  {
   "cell_type": "code",
   "execution_count": 13,
   "id": "05d0383d",
   "metadata": {},
   "outputs": [],
   "source": [
    "for i in list(os.listdir(r\"C:\\Users\\Aseem Gill\\Desktop\\University\\Cavs2003\\more\")):\n",
    "\n",
    "    img = cv2.imread(r\"C:\\Users\\Aseem Gill\\Desktop\\University\\Cavs2003\\more\\\\\" + str(i))\n",
    "\n",
    "    # Cropping an image\n",
    "    cropped_image = img[:, 175:1105]\n",
    "\n",
    "    # Display cropped image\n",
    "\n",
    "    # Save the cropped image\n",
    "    cv2.imwrite(r\"C:\\Users\\Aseem Gill\\Desktop\\University\\Cavs2003\\Cropped\\\\\" + str(i), cropped_image)\n",
    "\n",
    "    cv2.waitKey(0)\n",
    "    cv2.destroyAllWindows()"
   ]
  },
  {
   "cell_type": "code",
   "execution_count": 22,
   "id": "7f70d3ff",
   "metadata": {},
   "outputs": [],
   "source": [
    "x = 175\n",
    "\n",
    "y = 1280-175"
   ]
  },
  {
   "cell_type": "code",
   "execution_count": 9,
   "id": "9545135c",
   "metadata": {},
   "outputs": [
    {
     "data": {
      "text/plain": [
       "2250"
      ]
     },
     "execution_count": 9,
     "metadata": {},
     "output_type": "execute_result"
    }
   ],
   "source": [
    "(75*30)"
   ]
  },
  {
   "cell_type": "code",
   "execution_count": 30,
   "id": "d4df9192",
   "metadata": {},
   "outputs": [
    {
     "data": {
      "text/plain": [
       "'C:\\\\Users\\\\Aseem Gill\\\\Desktop\\\\University\\\\raw\\\\\\\\2003Cavs_frame10020.jpg.jpg'"
      ]
     },
     "execution_count": 30,
     "metadata": {},
     "output_type": "execute_result"
    }
   ],
   "source": [
    "r\"C:\\Users\\Aseem Gill\\Desktop\\University\\raw\\\\\" + str(i) + \".jpg\""
   ]
  },
  {
   "cell_type": "code",
   "execution_count": 2,
   "id": "0993a2b2",
   "metadata": {},
   "outputs": [
    {
     "name": "stdout",
     "output_type": "stream",
     "text": [
      "Collecting ultralytics\n",
      "  Using cached ultralytics-8.0.39-py3-none-any.whl (293 kB)\n",
      "Requirement already satisfied: PyYAML>=5.3.1 in c:\\users\\aseem gill\\anaconda3\\envs\\cavs2003\\lib\\site-packages (from ultralytics) (6.0)\n",
      "Requirement already satisfied: Pillow>=7.1.2 in c:\\users\\aseem gill\\anaconda3\\envs\\cavs2003\\lib\\site-packages (from ultralytics) (9.4.0)\n",
      "Requirement already satisfied: tqdm>=4.64.0 in c:\\users\\aseem gill\\anaconda3\\envs\\cavs2003\\lib\\site-packages (from ultralytics) (4.64.1)\n",
      "Requirement already satisfied: psutil in c:\\users\\aseem gill\\anaconda3\\envs\\cavs2003\\lib\\site-packages (from ultralytics) (5.9.0)\n",
      "Requirement already satisfied: sentry-sdk in c:\\users\\aseem gill\\anaconda3\\envs\\cavs2003\\lib\\site-packages (from ultralytics) (1.15.0)\n",
      "Requirement already satisfied: numpy>=1.18.5 in c:\\users\\aseem gill\\anaconda3\\envs\\cavs2003\\lib\\site-packages (from ultralytics) (1.24.2)\n",
      "Requirement already satisfied: thop>=0.1.1 in c:\\users\\aseem gill\\anaconda3\\envs\\cavs2003\\lib\\site-packages (from ultralytics) (0.1.1.post2209072238)\n",
      "Requirement already satisfied: torch>=1.7.0 in c:\\users\\aseem gill\\anaconda3\\envs\\cavs2003\\lib\\site-packages (from ultralytics) (1.13.1)\n",
      "Requirement already satisfied: scipy>=1.4.1 in c:\\users\\aseem gill\\anaconda3\\envs\\cavs2003\\lib\\site-packages (from ultralytics) (1.10.0)\n",
      "Requirement already satisfied: seaborn>=0.11.0 in c:\\users\\aseem gill\\anaconda3\\envs\\cavs2003\\lib\\site-packages (from ultralytics) (0.12.2)\n",
      "Requirement already satisfied: matplotlib>=3.2.2 in c:\\users\\aseem gill\\anaconda3\\envs\\cavs2003\\lib\\site-packages (from ultralytics) (3.7.0)\n",
      "Requirement already satisfied: wheel>=0.38.0 in c:\\users\\aseem gill\\anaconda3\\envs\\cavs2003\\lib\\site-packages (from ultralytics) (0.38.4)\n",
      "Requirement already satisfied: torchvision>=0.8.1 in c:\\users\\aseem gill\\anaconda3\\envs\\cavs2003\\lib\\site-packages (from ultralytics) (0.14.1)\n",
      "Requirement already satisfied: requests>=2.23.0 in c:\\users\\aseem gill\\anaconda3\\envs\\cavs2003\\lib\\site-packages (from ultralytics) (2.28.2)\n",
      "Requirement already satisfied: pandas>=1.1.4 in c:\\users\\aseem gill\\anaconda3\\envs\\cavs2003\\lib\\site-packages (from ultralytics) (1.5.3)\n",
      "Requirement already satisfied: tensorboard>=2.4.1 in c:\\users\\aseem gill\\anaconda3\\envs\\cavs2003\\lib\\site-packages (from ultralytics) (2.12.0)\n",
      "Requirement already satisfied: opencv-python>=4.6.0 in c:\\users\\aseem gill\\anaconda3\\envs\\cavs2003\\lib\\site-packages (from ultralytics) (4.7.0.68)\n",
      "Requirement already satisfied: importlib-resources>=3.2.0 in c:\\users\\aseem gill\\anaconda3\\envs\\cavs2003\\lib\\site-packages (from matplotlib>=3.2.2->ultralytics) (5.10.2)\n",
      "Requirement already satisfied: contourpy>=1.0.1 in c:\\users\\aseem gill\\anaconda3\\envs\\cavs2003\\lib\\site-packages (from matplotlib>=3.2.2->ultralytics) (1.0.7)\n",
      "Requirement already satisfied: packaging>=20.0 in c:\\users\\aseem gill\\anaconda3\\envs\\cavs2003\\lib\\site-packages (from matplotlib>=3.2.2->ultralytics) (22.0)\n",
      "Requirement already satisfied: pyparsing>=2.3.1 in c:\\users\\aseem gill\\anaconda3\\envs\\cavs2003\\lib\\site-packages (from matplotlib>=3.2.2->ultralytics) (3.0.9)\n",
      "Requirement already satisfied: fonttools>=4.22.0 in c:\\users\\aseem gill\\anaconda3\\envs\\cavs2003\\lib\\site-packages (from matplotlib>=3.2.2->ultralytics) (4.38.0)\n",
      "Requirement already satisfied: cycler>=0.10 in c:\\users\\aseem gill\\anaconda3\\envs\\cavs2003\\lib\\site-packages (from matplotlib>=3.2.2->ultralytics) (0.11.0)\n",
      "Requirement already satisfied: python-dateutil>=2.7 in c:\\users\\aseem gill\\anaconda3\\envs\\cavs2003\\lib\\site-packages (from matplotlib>=3.2.2->ultralytics) (2.8.2)\n",
      "Requirement already satisfied: kiwisolver>=1.0.1 in c:\\users\\aseem gill\\anaconda3\\envs\\cavs2003\\lib\\site-packages (from matplotlib>=3.2.2->ultralytics) (1.4.4)\n",
      "Requirement already satisfied: pytz>=2020.1 in c:\\users\\aseem gill\\anaconda3\\envs\\cavs2003\\lib\\site-packages (from pandas>=1.1.4->ultralytics) (2022.7.1)\n",
      "Requirement already satisfied: urllib3<1.27,>=1.21.1 in c:\\users\\aseem gill\\anaconda3\\envs\\cavs2003\\lib\\site-packages (from requests>=2.23.0->ultralytics) (1.26.14)\n",
      "Requirement already satisfied: charset-normalizer<4,>=2 in c:\\users\\aseem gill\\anaconda3\\envs\\cavs2003\\lib\\site-packages (from requests>=2.23.0->ultralytics) (3.0.1)\n",
      "Requirement already satisfied: idna<4,>=2.5 in c:\\users\\aseem gill\\anaconda3\\envs\\cavs2003\\lib\\site-packages (from requests>=2.23.0->ultralytics) (3.4)\n",
      "Requirement already satisfied: certifi>=2017.4.17 in c:\\users\\aseem gill\\anaconda3\\envs\\cavs2003\\lib\\site-packages (from requests>=2.23.0->ultralytics) (2022.12.7)\n",
      "Requirement already satisfied: tensorboard-plugin-wit>=1.6.0 in c:\\users\\aseem gill\\anaconda3\\envs\\cavs2003\\lib\\site-packages (from tensorboard>=2.4.1->ultralytics) (1.8.1)\n",
      "Requirement already satisfied: absl-py>=0.4 in c:\\users\\aseem gill\\anaconda3\\envs\\cavs2003\\lib\\site-packages (from tensorboard>=2.4.1->ultralytics) (1.4.0)\n",
      "Requirement already satisfied: google-auth-oauthlib<0.5,>=0.4.1 in c:\\users\\aseem gill\\anaconda3\\envs\\cavs2003\\lib\\site-packages (from tensorboard>=2.4.1->ultralytics) (0.4.6)\n",
      "Requirement already satisfied: grpcio>=1.48.2 in c:\\users\\aseem gill\\anaconda3\\envs\\cavs2003\\lib\\site-packages (from tensorboard>=2.4.1->ultralytics) (1.51.1)\n",
      "Requirement already satisfied: markdown>=2.6.8 in c:\\users\\aseem gill\\anaconda3\\envs\\cavs2003\\lib\\site-packages (from tensorboard>=2.4.1->ultralytics) (3.4.1)\n",
      "Requirement already satisfied: google-auth<3,>=1.6.3 in c:\\users\\aseem gill\\anaconda3\\envs\\cavs2003\\lib\\site-packages (from tensorboard>=2.4.1->ultralytics) (2.16.0)\n",
      "Requirement already satisfied: setuptools>=41.0.0 in c:\\users\\aseem gill\\anaconda3\\envs\\cavs2003\\lib\\site-packages (from tensorboard>=2.4.1->ultralytics) (65.6.3)\n",
      "Requirement already satisfied: werkzeug>=1.0.1 in c:\\users\\aseem gill\\anaconda3\\envs\\cavs2003\\lib\\site-packages (from tensorboard>=2.4.1->ultralytics) (2.2.3)\n",
      "Requirement already satisfied: tensorboard-data-server<0.8.0,>=0.7.0 in c:\\users\\aseem gill\\anaconda3\\envs\\cavs2003\\lib\\site-packages (from tensorboard>=2.4.1->ultralytics) (0.7.0)\n",
      "Requirement already satisfied: protobuf>=3.19.6 in c:\\users\\aseem gill\\anaconda3\\envs\\cavs2003\\lib\\site-packages (from tensorboard>=2.4.1->ultralytics) (4.22.0)\n",
      "Requirement already satisfied: typing-extensions in c:\\users\\aseem gill\\anaconda3\\envs\\cavs2003\\lib\\site-packages (from torch>=1.7.0->ultralytics) (4.4.0)\n",
      "Requirement already satisfied: colorama in c:\\users\\aseem gill\\anaconda3\\envs\\cavs2003\\lib\\site-packages (from tqdm>=4.64.0->ultralytics) (0.4.6)\n",
      "Requirement already satisfied: pyasn1-modules>=0.2.1 in c:\\users\\aseem gill\\anaconda3\\envs\\cavs2003\\lib\\site-packages (from google-auth<3,>=1.6.3->tensorboard>=2.4.1->ultralytics) (0.2.8)\n",
      "Requirement already satisfied: cachetools<6.0,>=2.0.0 in c:\\users\\aseem gill\\anaconda3\\envs\\cavs2003\\lib\\site-packages (from google-auth<3,>=1.6.3->tensorboard>=2.4.1->ultralytics) (5.3.0)\n",
      "Requirement already satisfied: rsa<5,>=3.1.4 in c:\\users\\aseem gill\\anaconda3\\envs\\cavs2003\\lib\\site-packages (from google-auth<3,>=1.6.3->tensorboard>=2.4.1->ultralytics) (4.9)\n",
      "Requirement already satisfied: six>=1.9.0 in c:\\users\\aseem gill\\anaconda3\\envs\\cavs2003\\lib\\site-packages (from google-auth<3,>=1.6.3->tensorboard>=2.4.1->ultralytics) (1.16.0)\n",
      "Requirement already satisfied: requests-oauthlib>=0.7.0 in c:\\users\\aseem gill\\anaconda3\\envs\\cavs2003\\lib\\site-packages (from google-auth-oauthlib<0.5,>=0.4.1->tensorboard>=2.4.1->ultralytics) (1.3.1)\n",
      "Requirement already satisfied: zipp>=3.1.0 in c:\\users\\aseem gill\\anaconda3\\envs\\cavs2003\\lib\\site-packages (from importlib-resources>=3.2.0->matplotlib>=3.2.2->ultralytics) (3.13.0)\n",
      "Requirement already satisfied: importlib-metadata>=4.4 in c:\\users\\aseem gill\\anaconda3\\envs\\cavs2003\\lib\\site-packages (from markdown>=2.6.8->tensorboard>=2.4.1->ultralytics) (6.0.0)\n",
      "Requirement already satisfied: MarkupSafe>=2.1.1 in c:\\users\\aseem gill\\anaconda3\\envs\\cavs2003\\lib\\site-packages (from werkzeug>=1.0.1->tensorboard>=2.4.1->ultralytics) (2.1.1)\n",
      "Requirement already satisfied: pyasn1<0.5.0,>=0.4.6 in c:\\users\\aseem gill\\anaconda3\\envs\\cavs2003\\lib\\site-packages (from pyasn1-modules>=0.2.1->google-auth<3,>=1.6.3->tensorboard>=2.4.1->ultralytics) (0.4.8)\n",
      "Requirement already satisfied: oauthlib>=3.0.0 in c:\\users\\aseem gill\\anaconda3\\envs\\cavs2003\\lib\\site-packages (from requests-oauthlib>=0.7.0->google-auth-oauthlib<0.5,>=0.4.1->tensorboard>=2.4.1->ultralytics) (3.2.2)\n",
      "Installing collected packages: ultralytics\n",
      "Successfully installed ultralytics-8.0.39\n"
     ]
    }
   ],
   "source": [
    "!pip install ultralytics"
   ]
  },
  {
   "cell_type": "code",
   "execution_count": 1,
   "id": "4ec8848d",
   "metadata": {},
   "outputs": [
    {
     "name": "stdout",
     "output_type": "stream",
     "text": [
      "Collecting ipywidgets\n",
      "  Downloading ipywidgets-8.0.4-py3-none-any.whl (137 kB)\n",
      "     -------------------------------------- 137.8/137.8 kB 2.7 MB/s eta 0:00:00\n",
      "Requirement already satisfied: ipython>=6.1.0 in c:\\users\\aseem gill\\anaconda3\\envs\\cavs2003\\lib\\site-packages (from ipywidgets) (8.9.0)\n",
      "Collecting jupyterlab-widgets~=3.0\n",
      "  Downloading jupyterlab_widgets-3.0.5-py3-none-any.whl (384 kB)\n",
      "     -------------------------------------- 384.3/384.3 kB 4.8 MB/s eta 0:00:00\n",
      "Requirement already satisfied: traitlets>=4.3.1 in c:\\users\\aseem gill\\anaconda3\\envs\\cavs2003\\lib\\site-packages (from ipywidgets) (5.7.1)\n",
      "Collecting widgetsnbextension~=4.0\n",
      "  Downloading widgetsnbextension-4.0.5-py3-none-any.whl (2.0 MB)\n",
      "     ---------------------------------------- 2.0/2.0 MB 21.6 MB/s eta 0:00:00\n",
      "Requirement already satisfied: ipykernel>=4.5.1 in c:\\users\\aseem gill\\anaconda3\\envs\\cavs2003\\lib\\site-packages (from ipywidgets) (6.19.2)\n",
      "Requirement already satisfied: psutil in c:\\users\\aseem gill\\anaconda3\\envs\\cavs2003\\lib\\site-packages (from ipykernel>=4.5.1->ipywidgets) (5.9.0)\n",
      "Requirement already satisfied: packaging in c:\\users\\aseem gill\\anaconda3\\envs\\cavs2003\\lib\\site-packages (from ipykernel>=4.5.1->ipywidgets) (22.0)\n",
      "Requirement already satisfied: tornado>=6.1 in c:\\users\\aseem gill\\anaconda3\\envs\\cavs2003\\lib\\site-packages (from ipykernel>=4.5.1->ipywidgets) (6.2)\n",
      "Requirement already satisfied: debugpy>=1.0 in c:\\users\\aseem gill\\anaconda3\\envs\\cavs2003\\lib\\site-packages (from ipykernel>=4.5.1->ipywidgets) (1.5.1)\n",
      "Requirement already satisfied: jupyter-client>=6.1.12 in c:\\users\\aseem gill\\anaconda3\\envs\\cavs2003\\lib\\site-packages (from ipykernel>=4.5.1->ipywidgets) (7.4.9)\n",
      "Requirement already satisfied: nest-asyncio in c:\\users\\aseem gill\\anaconda3\\envs\\cavs2003\\lib\\site-packages (from ipykernel>=4.5.1->ipywidgets) (1.5.6)\n",
      "Requirement already satisfied: pyzmq>=17 in c:\\users\\aseem gill\\anaconda3\\envs\\cavs2003\\lib\\site-packages (from ipykernel>=4.5.1->ipywidgets) (23.2.0)\n",
      "Requirement already satisfied: matplotlib-inline>=0.1 in c:\\users\\aseem gill\\anaconda3\\envs\\cavs2003\\lib\\site-packages (from ipykernel>=4.5.1->ipywidgets) (0.1.6)\n",
      "Requirement already satisfied: comm>=0.1.1 in c:\\users\\aseem gill\\anaconda3\\envs\\cavs2003\\lib\\site-packages (from ipykernel>=4.5.1->ipywidgets) (0.1.2)\n",
      "Requirement already satisfied: stack-data in c:\\users\\aseem gill\\anaconda3\\envs\\cavs2003\\lib\\site-packages (from ipython>=6.1.0->ipywidgets) (0.2.0)\n",
      "Requirement already satisfied: decorator in c:\\users\\aseem gill\\anaconda3\\envs\\cavs2003\\lib\\site-packages (from ipython>=6.1.0->ipywidgets) (5.1.1)\n",
      "Requirement already satisfied: pygments>=2.4.0 in c:\\users\\aseem gill\\anaconda3\\envs\\cavs2003\\lib\\site-packages (from ipython>=6.1.0->ipywidgets) (2.11.2)\n",
      "Requirement already satisfied: prompt-toolkit<3.1.0,>=3.0.30 in c:\\users\\aseem gill\\anaconda3\\envs\\cavs2003\\lib\\site-packages (from ipython>=6.1.0->ipywidgets) (3.0.36)\n",
      "Requirement already satisfied: colorama in c:\\users\\aseem gill\\anaconda3\\envs\\cavs2003\\lib\\site-packages (from ipython>=6.1.0->ipywidgets) (0.4.6)\n",
      "Requirement already satisfied: pickleshare in c:\\users\\aseem gill\\anaconda3\\envs\\cavs2003\\lib\\site-packages (from ipython>=6.1.0->ipywidgets) (0.7.5)\n",
      "Requirement already satisfied: jedi>=0.16 in c:\\users\\aseem gill\\anaconda3\\envs\\cavs2003\\lib\\site-packages (from ipython>=6.1.0->ipywidgets) (0.18.1)\n",
      "Requirement already satisfied: backcall in c:\\users\\aseem gill\\anaconda3\\envs\\cavs2003\\lib\\site-packages (from ipython>=6.1.0->ipywidgets) (0.2.0)\n",
      "Requirement already satisfied: parso<0.9.0,>=0.8.0 in c:\\users\\aseem gill\\anaconda3\\envs\\cavs2003\\lib\\site-packages (from jedi>=0.16->ipython>=6.1.0->ipywidgets) (0.8.3)\n",
      "Requirement already satisfied: jupyter-core>=4.9.2 in c:\\users\\aseem gill\\anaconda3\\envs\\cavs2003\\lib\\site-packages (from jupyter-client>=6.1.12->ipykernel>=4.5.1->ipywidgets) (5.2.0)\n",
      "Requirement already satisfied: python-dateutil>=2.8.2 in c:\\users\\aseem gill\\anaconda3\\envs\\cavs2003\\lib\\site-packages (from jupyter-client>=6.1.12->ipykernel>=4.5.1->ipywidgets) (2.8.2)\n",
      "Requirement already satisfied: entrypoints in c:\\users\\aseem gill\\anaconda3\\envs\\cavs2003\\lib\\site-packages (from jupyter-client>=6.1.12->ipykernel>=4.5.1->ipywidgets) (0.4)\n",
      "Requirement already satisfied: wcwidth in c:\\users\\aseem gill\\anaconda3\\envs\\cavs2003\\lib\\site-packages (from prompt-toolkit<3.1.0,>=3.0.30->ipython>=6.1.0->ipywidgets) (0.2.5)\n",
      "Requirement already satisfied: executing in c:\\users\\aseem gill\\anaconda3\\envs\\cavs2003\\lib\\site-packages (from stack-data->ipython>=6.1.0->ipywidgets) (0.8.3)\n",
      "Requirement already satisfied: pure-eval in c:\\users\\aseem gill\\anaconda3\\envs\\cavs2003\\lib\\site-packages (from stack-data->ipython>=6.1.0->ipywidgets) (0.2.2)\n",
      "Requirement already satisfied: asttokens in c:\\users\\aseem gill\\anaconda3\\envs\\cavs2003\\lib\\site-packages (from stack-data->ipython>=6.1.0->ipywidgets) (2.0.5)\n",
      "Requirement already satisfied: pywin32>=1.0 in c:\\users\\aseem gill\\anaconda3\\envs\\cavs2003\\lib\\site-packages (from jupyter-core>=4.9.2->jupyter-client>=6.1.12->ipykernel>=4.5.1->ipywidgets) (305.1)\n",
      "Requirement already satisfied: platformdirs>=2.5 in c:\\users\\aseem gill\\anaconda3\\envs\\cavs2003\\lib\\site-packages (from jupyter-core>=4.9.2->jupyter-client>=6.1.12->ipykernel>=4.5.1->ipywidgets) (2.5.2)\n",
      "Requirement already satisfied: six>=1.5 in c:\\users\\aseem gill\\anaconda3\\envs\\cavs2003\\lib\\site-packages (from python-dateutil>=2.8.2->jupyter-client>=6.1.12->ipykernel>=4.5.1->ipywidgets) (1.16.0)\n",
      "Installing collected packages: widgetsnbextension, jupyterlab-widgets, ipywidgets\n",
      "Successfully installed ipywidgets-8.0.4 jupyterlab-widgets-3.0.5 widgetsnbextension-4.0.5\n"
     ]
    }
   ],
   "source": [
    "!pip install ipywidgets"
   ]
  },
  {
   "cell_type": "code",
   "execution_count": null,
   "id": "b7637ead",
   "metadata": {},
   "outputs": [],
   "source": [
    "from ultralytics import YOLO"
   ]
  },
  {
   "cell_type": "code",
   "execution_count": null,
   "id": "24c8b379",
   "metadata": {},
   "outputs": [],
   "source": []
  }
 ],
 "metadata": {
  "kernelspec": {
   "display_name": "Python 3 (ipykernel)",
   "language": "python",
   "name": "python3"
  },
  "language_info": {
   "codemirror_mode": {
    "name": "ipython",
    "version": 3
   },
   "file_extension": ".py",
   "mimetype": "text/x-python",
   "name": "python",
   "nbconvert_exporter": "python",
   "pygments_lexer": "ipython3",
   "version": "3.9.12"
  }
 },
 "nbformat": 4,
 "nbformat_minor": 5
}
